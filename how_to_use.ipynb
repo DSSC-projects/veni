{
  "cells": [
    {
      "cell_type": "markdown",
      "metadata": {
        "id": "QtyTP8_C79xR"
      },
      "source": [
        "# Training a MLP using backpropagation"
      ]
    },
    {
      "cell_type": "markdown",
      "metadata": {
        "id": "opkZuz6b79xT"
      },
      "source": [
        "* **part 1** we train using `MLP`. \n",
        "* **part 2** we train using `Sequential` and `Linear`. \n",
        "* **part 3** we train using `Sequential`, `Linear` and `Conv2D`. "
      ]
    },
    {
      "cell_type": "code",
      "execution_count": 1,
      "metadata": {
        "id": "t2PRtHa8IvXY"
      },
      "outputs": [],
      "source": [
        "import jax\n",
        "from jax import numpy as jnp\n",
        "from jax import grad, jit\n",
        "from jax_forward import ReLU, LogSoftmax, MLP, Module, Sequential, Linear, Conv2D, MaxPool2D, Flatten\n",
        "from time import time\n",
        "dspath = \"../datasets\"\n",
        "jax.config.update('jax_platform_name', 'cpu')"
      ]
    },
    {
      "cell_type": "markdown",
      "metadata": {
        "id": "S6x8RCyW79xU"
      },
      "source": [
        "## Part 1\n",
        "We first define useful parameters that we are going to use later. Note that our model is a MLP imported from `net.py`"
      ]
    },
    {
      "cell_type": "code",
      "execution_count": 2,
      "metadata": {
        "id": "fuLi5I2ViLr9"
      },
      "outputs": [],
      "source": [
        "# hyperparameters\n",
        "layer_sizes = [784, 512, 256, 10]\n",
        "step_size = 0.01\n",
        "num_epochs = 5\n",
        "batch_size = 128\n",
        "n_targets = 10\n",
        "key = jax.random.PRNGKey(0)\n",
        "function = ReLU()\n",
        "log_softmax = LogSoftmax()\n",
        "\n",
        "# to create a model is as simple as that\n",
        "model = MLP(layer_sizes, function, key)\n",
        "params = model.params # we need to extract parameters"
      ]
    },
    {
      "cell_type": "markdown",
      "metadata": {
        "id": "KwMdEkYm79xV"
      },
      "source": [
        "Helper functions, trainloader and other stuff..."
      ]
    },
    {
      "cell_type": "code",
      "execution_count": 3,
      "metadata": {
        "colab": {
          "base_uri": "https://localhost:8080/"
        },
        "id": "FGG55g_OmppV",
        "outputId": "d4bf38ed-77b7-4a0f-e397-6cfb7d245de0"
      },
      "outputs": [
        {
          "name": "stderr",
          "output_type": "stream",
          "text": [
            "/home/francesco/.local/lib/python3.10/site-packages/torchvision/datasets/mnist.py:75: UserWarning: train_data has been renamed data\n",
            "  warnings.warn(\"train_data has been renamed data\")\n",
            "/home/francesco/.local/lib/python3.10/site-packages/torchvision/datasets/mnist.py:65: UserWarning: train_labels has been renamed targets\n",
            "  warnings.warn(\"train_labels has been renamed targets\")\n",
            "/home/francesco/.local/lib/python3.10/site-packages/torchvision/datasets/mnist.py:80: UserWarning: test_data has been renamed data\n",
            "  warnings.warn(\"test_data has been renamed data\")\n",
            "/home/francesco/.local/lib/python3.10/site-packages/torchvision/datasets/mnist.py:70: UserWarning: test_labels has been renamed targets\n",
            "  warnings.warn(\"test_labels has been renamed targets\")\n"
          ]
        }
      ],
      "source": [
        "# some helper functions\n",
        "def one_hot(x, k, dtype=jnp.float32):\n",
        "  \"\"\"Create a one-hot encoding of x of size k.\"\"\"\n",
        "  return jnp.array(x[:, None] == jnp.arange(k), dtype)\n",
        "  \n",
        "def accuracy(params, images, targets):\n",
        "  target_class = jnp.argmax(targets, axis=1)\n",
        "  predicted_class = jnp.argmax(model(images,params), axis=1)\n",
        "  return jnp.mean(predicted_class == target_class)\n",
        "\n",
        "def loss(params, images, targets):\n",
        "  preds = model(images, params)\n",
        "  preds = log_softmax(preds)\n",
        "  return -jnp.mean(preds * targets)\n",
        "\n",
        "#@jit\n",
        "def update(params, x, y):\n",
        "  grads = grad(loss)(params, x, y)\n",
        "  return [(w - step_size * dw, b - step_size * db)\n",
        "          for (w, b), (dw, db) in zip(params, grads)]\n",
        "\n",
        "\n",
        "import numpy as np\n",
        "from torch.utils import data\n",
        "from torchvision.datasets import MNIST\n",
        "\n",
        "def numpy_collate(batch):\n",
        "  if isinstance(batch[0], np.ndarray):\n",
        "    return np.stack(batch)\n",
        "  elif isinstance(batch[0], (tuple,list)):\n",
        "    transposed = zip(*batch)\n",
        "    return [numpy_collate(samples) for samples in transposed]\n",
        "  else:\n",
        "    return np.array(batch)\n",
        "\n",
        "class NumpyLoader(data.DataLoader):\n",
        "  def __init__(self, dataset, batch_size=1,\n",
        "                shuffle=False, sampler=None,\n",
        "                batch_sampler=None, num_workers=0,\n",
        "                pin_memory=False, drop_last=False,\n",
        "                timeout=0, worker_init_fn=None):\n",
        "    super(self.__class__, self).__init__(dataset,\n",
        "        batch_size=batch_size,\n",
        "        shuffle=shuffle,\n",
        "        sampler=sampler,\n",
        "        batch_sampler=batch_sampler,\n",
        "        num_workers=num_workers,\n",
        "        collate_fn=numpy_collate,\n",
        "        pin_memory=pin_memory,\n",
        "        drop_last=drop_last,\n",
        "        timeout=timeout,\n",
        "        worker_init_fn=worker_init_fn)\n",
        "\n",
        "class FlattenAndCast(object):\n",
        "  def __call__(self, pic):\n",
        "    return np.ravel(np.array(pic, dtype=jnp.float32))\n",
        "\n",
        "\n",
        "class Cast(object):\n",
        "  def __call__(self, pic):\n",
        "    return np.array(pic, dtype=jnp.float32)\n",
        "\n",
        "# Define our dataset, using torch datasets\n",
        "mnist_dataset = MNIST(dspath, download=True, transform=FlattenAndCast())\n",
        "training_generator = NumpyLoader(mnist_dataset, batch_size=batch_size, num_workers=0)\n",
        "\n",
        "# Get the full train dataset (for checking accuracy while training)\n",
        "train_images = np.array(mnist_dataset.train_data).reshape(len(mnist_dataset.train_data), -1)\n",
        "train_labels = one_hot(np.array(mnist_dataset.train_labels), n_targets)\n",
        "\n",
        "# Get full test dataset\n",
        "mnist_dataset_test = MNIST(dspath, download=True, train=False)\n",
        "test_images = jnp.array(mnist_dataset_test.test_data.numpy().reshape(len(mnist_dataset_test.test_data), -1), dtype=jnp.float32)\n",
        "test_labels = one_hot(np.array(mnist_dataset_test.test_labels), n_targets)"
      ]
    },
    {
      "cell_type": "markdown",
      "metadata": {
        "id": "AGztSd9S79xW"
      },
      "source": [
        "Here we train using backpropagation"
      ]
    },
    {
      "cell_type": "code",
      "execution_count": 4,
      "metadata": {
        "colab": {
          "base_uri": "https://localhost:8080/"
        },
        "id": "kWbp73vtq13K",
        "outputId": "9b5bd1c9-bf95-400c-e00e-31a96123f8ae"
      },
      "outputs": [
        {
          "name": "stdout",
          "output_type": "stream",
          "text": [
            "Epoch 0 in 24.71 sec\n",
            "Training set accuracy 0.9044666886329651\n",
            "Test set accuracy 0.911899983882904\n",
            "Epoch 1 in 14.61 sec\n",
            "Training set accuracy 0.9273666739463806\n",
            "Test set accuracy 0.9305999875068665\n",
            "Epoch 2 in 13.67 sec\n",
            "Training set accuracy 0.9414666891098022\n",
            "Test set accuracy 0.9399999976158142\n",
            "Epoch 3 in 11.93 sec\n",
            "Training set accuracy 0.9496999979019165\n",
            "Test set accuracy 0.9475999474525452\n",
            "Epoch 4 in 13.27 sec\n",
            "Training set accuracy 0.9562833309173584\n",
            "Test set accuracy 0.9531999826431274\n"
          ]
        }
      ],
      "source": [
        "import time\n",
        "\n",
        "for epoch in range(num_epochs):\n",
        "  start_time = time.time()\n",
        "  for x, y in training_generator:\n",
        "    y = one_hot(y, n_targets)\n",
        "    params = update(params, x, y)\n",
        "  epoch_time = time.time() - start_time\n",
        "\n",
        "  train_acc = accuracy(params, train_images, train_labels)\n",
        "  test_acc = accuracy(params, test_images, test_labels)\n",
        "  print(\"Epoch {} in {:0.2f} sec\".format(epoch, epoch_time))\n",
        "  print(\"Training set accuracy {}\".format(train_acc))\n",
        "  print(\"Test set accuracy {}\".format(test_acc))"
      ]
    },
    {
      "cell_type": "markdown",
      "metadata": {
        "id": "dMyZN2La79xX"
      },
      "source": [
        "## Part 2\n",
        "We first define useful parameters that we are going to use later. Note that our model is a costum model built using `Sequential` and `Linear`."
      ]
    },
    {
      "cell_type": "code",
      "execution_count": 5,
      "metadata": {
        "id": "3T0BVKsJ79xY"
      },
      "outputs": [],
      "source": [
        "class myModel(Module):\n",
        "    def __init__(self):\n",
        "        self.layers = Sequential([\n",
        "            Linear(28*28,512,key),\n",
        "            function,\n",
        "            Linear(512,256,key),\n",
        "            function,\n",
        "            Linear(256,10,key)\n",
        "        ])\n",
        "        self.params = self.layers.generate_parameters()\n",
        "\n",
        "    def forward(self, data, params):\n",
        "        return self.layers(data, params)\n",
        "\n",
        "\n",
        "# we define the model as simple as that\n",
        "model = myModel()\n",
        "params = model.params"
      ]
    },
    {
      "cell_type": "markdown",
      "metadata": {
        "id": "HaaY-qwUi1In"
      },
      "source": [
        "Let's train"
      ]
    },
    {
      "cell_type": "code",
      "execution_count": 6,
      "metadata": {
        "colab": {
          "base_uri": "https://localhost:8080/"
        },
        "id": "5kpedeNf79xY",
        "outputId": "994c375f-dd99-4e66-dcd4-9e45b302f391"
      },
      "outputs": [
        {
          "name": "stdout",
          "output_type": "stream",
          "text": [
            "Epoch 0 in 14.20 sec\n",
            "Training set accuracy 0.909416675567627\n",
            "Test set accuracy 0.9139999747276306\n",
            "Epoch 1 in 12.16 sec\n",
            "Training set accuracy 0.9317833185195923\n",
            "Test set accuracy 0.9317999482154846\n",
            "Epoch 2 in 12.25 sec\n",
            "Training set accuracy 0.9434333443641663\n",
            "Test set accuracy 0.9411999583244324\n",
            "Epoch 3 in 12.09 sec\n",
            "Training set accuracy 0.951449990272522\n",
            "Test set accuracy 0.9483999609947205\n",
            "Epoch 4 in 12.97 sec\n",
            "Training set accuracy 0.9581000208854675\n",
            "Test set accuracy 0.9537999629974365\n"
          ]
        }
      ],
      "source": [
        "for epoch in range(num_epochs):\n",
        "  start_time = time.time()\n",
        "  for x, y in training_generator:\n",
        "    y = one_hot(y, n_targets)\n",
        "    params = update(params, x, y)\n",
        "  epoch_time = time.time() - start_time\n",
        "\n",
        "  train_acc = accuracy(params, train_images, train_labels)\n",
        "  test_acc = accuracy(params, test_images, test_labels)\n",
        "  print(\"Epoch {} in {:0.2f} sec\".format(epoch, epoch_time))\n",
        "  print(\"Training set accuracy {}\".format(train_acc))\n",
        "  print(\"Test set accuracy {}\".format(test_acc))"
      ]
    },
    {
      "cell_type": "markdown",
      "metadata": {},
      "source": [
        "## Part 3\n",
        "We first define useful parameters that we are going to use later. Note that our model is a costum model built using `Sequential`, `Linear` and `Conv2D` base on this [PyTorch tutorial](https://pytorch.org/tutorials/beginner/blitz/cifar10_tutorial.html)."
      ]
    },
    {
      "cell_type": "code",
      "execution_count": 7,
      "metadata": {},
      "outputs": [
        {
          "name": "stdout",
          "output_type": "stream",
          "text": [
            "Files already downloaded and verified\n"
          ]
        }
      ],
      "source": [
        "from torchvision.datasets import CIFAR10\n",
        "import torchvision.transforms as transforms\n",
        "import torchvision\n",
        "from torch import transpose\n",
        "\n",
        "transform = transforms.Compose(\n",
        "    [transforms.ToTensor(),\n",
        "     transforms.Normalize((0.5, 0.5, 0.5), (0.5, 0.5, 0.5)), Cast(),])\n",
        "\n",
        "cifar_dataset = CIFAR10(dspath, download=True,train=True,\n",
        "                        transform=transform)\n",
        "training_generator = NumpyLoader(\n",
        "    cifar_dataset, batch_size=batch_size, num_workers=0)\n",
        "\n",
        "# Get the full train dataset (for checking accuracy while training)\n",
        "train_images = jnp.array([item[0] for item in cifar_dataset])\n",
        "train_labels = one_hot(np.array(cifar_dataset.targets), n_targets)\n",
        "\n",
        "# Get full test dataset\n",
        "cifar_dataset_test = CIFAR10(dspath, download=True, train=False,\n",
        "                             transform=transform)\n",
        "test_images = jnp.array([item[0] for item in cifar_dataset_test])\n",
        "test_labels = one_hot(np.array(cifar_dataset.targets), n_targets)\n"
      ]
    },
    {
      "cell_type": "markdown",
      "metadata": {},
      "source": [
        "Let's define the model"
      ]
    },
    {
      "cell_type": "code",
      "execution_count": null,
      "metadata": {},
      "outputs": [],
      "source": [
        "class myModel(Module):\n",
        "    def __init__(self):\n",
        "        self.layers = Sequential([\n",
        "            Conv2D(3, 6, 5, 1, 'VALID', key),\n",
        "            function,\n",
        "            MaxPool2D(2, 2),\n",
        "            Conv2D(6, 16, 5, 1, 'VALID', key),\n",
        "            function,\n",
        "            MaxPool2D(2, 2),\n",
        "            Flatten(),\n",
        "            Linear(16 * 5 * 5, 120, key),\n",
        "            function,\n",
        "            Linear(120, 84, key),\n",
        "            function,\n",
        "            Linear(84, 10, key)\n",
        "        ])\n",
        "        self.params = self.layers.generate_parameters()\n",
        "\n",
        "    def forward(self, data, params):\n",
        "        return self.layers(data, params)\n",
        "\n",
        "\n",
        "# we define the model as simple as that\n",
        "model = myModel()\n",
        "params = model.params\n"
      ]
    },
    {
      "cell_type": "code",
      "execution_count": null,
      "metadata": {},
      "outputs": [
        {
          "name": "stdout",
          "output_type": "stream",
          "text": [
            "Epoch 0 in 48.65 sec\n",
            "Training set accuracy 0.1264999955892563\n",
            "Test set accuracy 0.09779999405145645\n",
            "Epoch 1 in 45.66 sec\n",
            "Training set accuracy 0.1582999974489212\n",
            "Test set accuracy 0.09629999846220016\n"
          ]
        }
      ],
      "source": [
        "from time import time\n",
        "step_size = 0.001\n",
        "for epoch in range(num_epochs):\n",
        "  start_time = time()\n",
        "  for x, y in training_generator:\n",
        "    y = one_hot(y, n_targets)\n",
        "    params = update(params, x, y)\n",
        "  epoch_time = time() - start_time\n",
        "\n",
        "  train_acc = accuracy(params, train_images[:10000], train_labels[:10000])\n",
        "  test_acc = accuracy(params, test_images[:10000], test_labels[:10000])\n",
        "  print(\"Epoch {} in {:0.2f} sec\".format(epoch, epoch_time))\n",
        "  print(\"Training set accuracy {}\".format(train_acc))\n",
        "  print(\"Test set accuracy {}\".format(test_acc))"
      ]
    },
    {
      "cell_type": "code",
      "execution_count": null,
      "metadata": {},
      "outputs": [],
      "source": []
    }
  ],
  "metadata": {
    "accelerator": "GPU",
    "colab": {
      "collapsed_sections": [],
      "name": "esempio_jax.ipynb",
      "provenance": []
    },
    "interpreter": {
      "hash": "916dbcbb3f70747c44a77c7bcd40155683ae19c65e1c03b4aa3499c5328201f1"
    },
    "kernelspec": {
      "display_name": "Python 3.10.4 64-bit",
      "language": "python",
      "name": "python3"
    },
    "language_info": {
      "codemirror_mode": {
        "name": "ipython",
        "version": 3
      },
      "file_extension": ".py",
      "mimetype": "text/x-python",
      "name": "python",
      "nbconvert_exporter": "python",
      "pygments_lexer": "ipython3",
      "version": "3.10.4"
    }
  },
  "nbformat": 4,
  "nbformat_minor": 2
}
