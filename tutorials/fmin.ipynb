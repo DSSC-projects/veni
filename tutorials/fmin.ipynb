{
  "cells": [
    {
      "cell_type": "code",
      "execution_count": 10,
      "metadata": {
        "id": "EUW2LQugGyX5"
      },
      "outputs": [],
      "source": [
        "import jax\n",
        "import jax.numpy as jnp\n",
        "from tqdm import tqdm\n",
        "import seaborn as sns\n",
        "\n",
        "sns.set(style=\"whitegrid\")"
      ]
    },
    {
      "cell_type": "code",
      "execution_count": 11,
      "metadata": {
        "id": "OaWm_EU_GyX9"
      },
      "outputs": [],
      "source": [
        "@jax.jit\n",
        "def beale(theta: jnp.DeviceArray) -> jnp.DeviceArray:\n",
        "  x = jnp.dot(theta, jnp.array([1., 0.]))\n",
        "  y = jnp.dot(theta, jnp.array([0., 1.]))\n",
        "  xy = jnp.dot(x, y)\n",
        "  xyy = jnp.dot(xy, y)\n",
        "  xyyy = jnp.dot(xyy, y)\n",
        "  return jnp.power(1.5 - x + xy, 2) + jnp.power(2.25 - x + xyy, 2) + jnp.power(2.625 - x + xyyy, 2)\n",
        "\n",
        "@jax.jit\n",
        "def rosenbrock(theta: jnp.DeviceArray) -> jnp.DeviceArray:\n",
        "  x = jnp.dot(theta, jnp.array([1., 0.]))\n",
        "  y = jnp.dot(theta, jnp.array([0., 1.]))\n",
        "  return jnp.power(1 - x, 2) + 100 * jnp.power(y - x * x, 2)\n",
        "\n",
        "def FGD(params, loss, key, step_size=5e-4):\n",
        "    v = jax.random.normal(key, shape=params.shape)\n",
        "    _, dd = jax.jvp(loss, (params,), (v,))\n",
        "    step = step_size * dd\n",
        "    return params - step * v"
      ]
    },
    {
      "cell_type": "code",
      "execution_count": 12,
      "metadata": {
        "colab": {
          "base_uri": "https://localhost:8080/"
        },
        "id": "_1Kp76ftGyX-",
        "outputId": "edf0d7e5-b279-4cfc-af5b-112563b54332"
      },
      "outputs": [
        {
          "output_type": "stream",
          "name": "stderr",
          "text": [
            "100%|██████████| 25000/25000 [01:42<00:00, 244.73it/s]\n"
          ]
        }
      ],
      "source": [
        "theta = jnp.array([-1., 0.])\n",
        "xs = []\n",
        "ys = []\n",
        "f_val = []\n",
        "\n",
        "for i in tqdm(range(25000)):\n",
        "    theta = FGD(theta, rosenbrock, jax.random.PRNGKey(i), step_size=5e-4)\n",
        "    xs.append(float(theta[0]))\n",
        "    ys.append(float(theta[1]))\n",
        "    f_val.append(float(rosenbrock(theta)))"
      ]
    },
    {
      "cell_type": "code",
      "execution_count": 13,
      "metadata": {
        "colab": {
          "base_uri": "https://localhost:8080/",
          "height": 286
        },
        "id": "Qz1WUP_RGyX_",
        "outputId": "4724ce4e-7d90-4129-c3ec-2bd09dc346b7"
      },
      "outputs": [
        {
          "output_type": "execute_result",
          "data": {
            "text/plain": [
              "<matplotlib.axes._subplots.AxesSubplot at 0x7f6eb8832d10>"
            ]
          },
          "metadata": {},
          "execution_count": 13
        },
        {
          "output_type": "display_data",
          "data": {
            "text/plain": [
              "<Figure size 432x288 with 1 Axes>"
            ],
            "image/png": "[encoded data removed]"
          },
          "metadata": {}
        }
      ],
      "source": [
        "sns.lineplot(x=[i for i in range(len(f_val))], y=f_val)"
      ]
    },
    {
      "cell_type": "code",
      "execution_count": 14,
      "metadata": {
        "colab": {
          "base_uri": "https://localhost:8080/",
          "height": 286
        },
        "id": "jxLQoqMBGyYA",
        "outputId": "3be43fb9-0e07-49ec-f523-f4eb50c7c994"
      },
      "outputs": [
        {
          "output_type": "execute_result",
          "data": {
            "text/plain": [
              "<matplotlib.axes._subplots.AxesSubplot at 0x7f6eb5509510>"
            ]
          },
          "metadata": {},
          "execution_count": 14
        },
        {
          "output_type": "display_data",
          "data": {
            "text/plain": [
              "<Figure size 432x288 with 1 Axes>"
            ],
            "image/png": "[encoded data removed]"
          },
          "metadata": {}
        }
      ],
      "source": [
        "sns.lineplot(x=xs, y=ys)"
      ]
    },
    {
      "cell_type": "code",
      "source": [
        ""
      ],
      "metadata": {
        "id": "tWraX-thHbhI"
      },
      "execution_count": null,
      "outputs": []
    }
  ],
  "metadata": {
    "interpreter": {
      "hash": "bf9df1acc083bd5e3e638985fcebd21ad1fc4da3dcb88d72082f07cf9629809d"
    },
    "kernelspec": {
      "display_name": "Python 3.10.4 ('jax')",
      "language": "python",
      "name": "python3"
    },
    "language_info": {
      "codemirror_mode": {
        "name": "ipython",
        "version": 3
      },
      "file_extension": ".py",
      "mimetype": "text/x-python",
      "name": "python",
      "nbconvert_exporter": "python",
      "pygments_lexer": "ipython3",
      "version": "3.10.4"
    },
    "orig_nbformat": 4,
    "colab": {
      "name": "fmin.ipynb",
      "provenance": []
    }
  },
  "nbformat": 4,
  "nbformat_minor": 0
}