{
 "cells": [
  {
   "cell_type": "code",
   "execution_count": 14,
   "source": [
    "import torch\n",
    "from torch.nn import Linear, Sequential\n",
    "from torch.autograd import forward_ad\n",
    "from torch.nn.utils import parameters_to_vector\n",
    "from torch.nn.utils._stateless import functional_call\n",
    "\n",
    "class MLP(torch.nn.Module):\n",
    "    def __init__(self, d, k):\n",
    "        super().__init__()\n",
    "        layers = []\n",
    "        layers.append(torch.nn.Linear(d, 3, bias = False))\n",
    "        layers.append(torch.nn.ReLU())\n",
    "        layers.append(torch.nn.Linear(3, k, bias = False))\n",
    "        self.net = torch.nn.Sequential(*layers)\n",
    "\n",
    "    def forward(self, X):\n",
    "        return self.net(X)"
   ],
   "outputs": [],
   "metadata": {}
  },
  {
   "cell_type": "code",
   "execution_count": 40,
   "source": [
    "torch.manual_seed(111)\n",
    "\n",
    "# Forward mode\n",
    "@torch.enable_grad()\n",
    "def _compute_gradient(model, named_params, inputs, targets, criterion):\n",
    "    preds = functional_call(model, named_params, inputs)  # model(inputs)\n",
    "    loss = criterion(preds, targets)\n",
    "    return torch.autograd.grad(loss, named_params.values())\n",
    "\n",
    "\n",
    "def my_forward_ad(model, inputs, targets, criterion, multiplier):\n",
    "    with forward_ad.dual_level():\n",
    "        named_dual_params = {name: forward_ad.make_dual(p, multiplier[i])\n",
    "                             for i, (name, p) in enumerate(model.named_parameters())}\n",
    "        gradient = _compute_gradient(\n",
    "            model, named_dual_params, inputs, targets, criterion)\n",
    "    return gradient\n",
    "    \n",
    "def criterion(true, output):   # Usual criteria give NotImplementedErrors (see below)\n",
    "    return torch.abs(true - outputs).mean()\n",
    "d = 5 # dimension of inputs\n",
    "k = 2 # dimension of outputs\n",
    "N = 4 # number of data\n",
    "model = MLP(d, k)\n",
    "x = torch.arange(5) + 0.1\n",
    "true = torch.arange(2) + 0.3\n",
    "\n",
    "multiplier = [torch.randn_like(v) for v in model.parameters()] # `v` in HVP. The factor of 1e5 is to amplif\n",
    "grad2 = my_forward_ad(model, x, true, criterion, multiplier)\n",
    "grad2"
   ],
   "outputs": [
    {
     "output_type": "execute_result",
     "data": {
      "text/plain": [
       "(tensor([[ 2.1394e-02,  2.3533e-01,  4.4927e-01,  6.6320e-01,  8.7714e-01],\n",
       "         [ 6.7076e-04,  7.3783e-03,  1.4086e-02,  2.0793e-02,  2.7501e-02],\n",
       "         [-1.0195e-02, -1.1214e-01, -2.1409e-01, -3.1604e-01, -4.1798e-01]]),\n",
       " tensor([[0.4125, 0.2169, 0.4556],\n",
       "         [0.4125, 0.2169, 0.4556]]))"
      ]
     },
     "metadata": {},
     "execution_count": 40
    }
   ],
   "metadata": {}
  },
  {
   "cell_type": "code",
   "execution_count": 41,
   "source": [
    "torch.manual_seed(111)\n",
    "# Simple pytorch implementation calculating dL/dw, w parameters\n",
    "# using backward propagation\n",
    "\n",
    "d = 5 # dimension of inputs\n",
    "k = 2 # dimension of outputs\n",
    "N = 4 # number of data\n",
    "model = MLP(d, k)\n",
    "x = torch.arange(5) + 0.1\n",
    "true = torch.arange(2) + 0.3\n",
    "outputs = model(x)\n",
    "\n",
    "loss = torch.abs(true - outputs).mean()\n",
    "loss.backward()\n",
    "for param in model.parameters():\n",
    "    print(param.grad)"
   ],
   "outputs": [
    {
     "output_type": "stream",
     "name": "stdout",
     "text": [
      "tensor([[0.0000, 0.0000, 0.0000, 0.0000, 0.0000],\n",
      "        [0.0152, 0.1672, 0.3192, 0.4712, 0.6232],\n",
      "        [0.0021, 0.0227, 0.0433, 0.0639, 0.0845]])\n",
      "tensor([[-0.0000, -0.5192, -0.0785],\n",
      "        [-0.0000, -0.5192, -0.0785]])\n"
     ]
    }
   ],
   "metadata": {}
  },
  {
   "cell_type": "code",
   "execution_count": null,
   "source": [],
   "outputs": [],
   "metadata": {}
  }
 ],
 "metadata": {
  "kernelspec": {
   "display_name": "Python 3 (ipykernel)",
   "language": "python",
   "name": "python3"
  },
  "language_info": {
   "codemirror_mode": {
    "name": "ipython",
    "version": 3
   },
   "file_extension": ".py",
   "mimetype": "text/x-python",
   "name": "python",
   "nbconvert_exporter": "python",
   "pygments_lexer": "ipython3",
   "version": "3.9.0"
  }
 },
 "nbformat": 4,
 "nbformat_minor": 5
}