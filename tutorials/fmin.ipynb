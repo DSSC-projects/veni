{
  "cells": [
    {
      "cell_type": "code",
      "execution_count": 1,
      "metadata": {
        "id": "EUW2LQugGyX5"
      },
      "outputs": [],
      "source": [
        "import jax\n",
        "import jax.numpy as jnp\n",
        "from tqdm import tqdm\n",
        "import seaborn as sns\n",
        "\n",
        "sns.set(style=\"whitegrid\")"
      ]
    },
    {
      "cell_type": "code",
      "execution_count": 62,
      "metadata": {
        "id": "OaWm_EU_GyX9"
      },
      "outputs": [],
      "source": [
        "@jax.jit\n",
        "def beale(theta: jnp.DeviceArray) -> jnp.DeviceArray:\n",
        "  x = jnp.dot(theta, jnp.array([1., 0.]))\n",
        "  y = jnp.dot(theta, jnp.array([0., 1.]))\n",
        "  xy = jnp.dot(x, y)\n",
        "  xyy = jnp.dot(xy, y)\n",
        "  xyyy = jnp.dot(xyy, y)\n",
        "  return jnp.power(1.5 - x + xy, 2) + jnp.power(2.25 - x + xyy, 2) + jnp.power(2.625 - x + xyyy, 2)\n",
        "\n",
        "@jax.jit\n",
        "def rosenbrock(theta: jnp.DeviceArray) -> jnp.DeviceArray:\n",
        "  x = jnp.dot(theta, jnp.array([1., 0.]))\n",
        "  y = jnp.dot(theta, jnp.array([0., 1.]))\n",
        "  return jnp.power(1 - x, 2) + 100 * jnp.power(y - x * x, 2)\n",
        "\n",
        "class SGD(object):\n",
        "\n",
        "  def __init__(self, params, momentum=0, dampening=0, eta=1e-3, nestereov=False):\n",
        "    self.shape = params.shape\n",
        "    self.momentum = momentum\n",
        "    self.dampening = dampening\n",
        "    self.eta = eta\n",
        "    self.nesterov = nestereov\n",
        "    self.prev_grad = None\n",
        "    self.t = 0\n",
        "\n",
        "  def update(self, params, key, loss):\n",
        "    v = jax.random.normal(key, shape=self.shape)\n",
        "    _, dd = jax.jvp(loss, (params,), (v,))\n",
        "    grad = dd * v\n",
        "\n",
        "    if self.momentum != 0:\n",
        "      if self.t == 0:\n",
        "        self.b = grad\n",
        "      else:\n",
        "        self.b = self.momentum * self.b + (1 - self.dampening) * grad\n",
        "      \n",
        "      if self.nesterov and self.t > 0:\n",
        "        grad = self.prev_grad + self.momentum * self.b\n",
        "      else:\n",
        "        grad = self.b\n",
        "\n",
        "    self.prev_grad = grad\n",
        "    self.t += 1\n",
        "\n",
        "    return params - self.eta * grad\n"
      ]
    },
    {
      "cell_type": "code",
      "execution_count": 88,
      "metadata": {
        "colab": {
          "base_uri": "https://localhost:8080/"
        },
        "id": "_1Kp76ftGyX-",
        "outputId": "edf0d7e5-b279-4cfc-af5b-112563b54332"
      },
      "outputs": [
        {
          "name": "stderr",
          "output_type": "stream",
          "text": [
            "100%|██████████| 1000/1000 [00:03<00:00, 321.64it/s]\n"
          ]
        }
      ],
      "source": [
        "theta = jnp.array([0., 0.5])\n",
        "xs = []\n",
        "ys = []\n",
        "f_val = []\n",
        "\n",
        "optim = SGD(theta, momentum=0.75, eta=0.01, dampening=0.9)\n",
        "\n",
        "for i in tqdm(range(1000)):\n",
        "    theta = optim.update(theta, jax.random.PRNGKey(i), beale)\n",
        "    xs.append(float(theta[0]))\n",
        "    ys.append(float(theta[1]))\n",
        "    f_val.append(float(beale(theta)))"
      ]
    },
    {
      "cell_type": "code",
      "execution_count": 64,
      "metadata": {},
      "outputs": [
        {
          "name": "stderr",
          "output_type": "stream",
          "text": [
            "100%|██████████| 1000/1000 [00:03<00:00, 264.23it/s]\n"
          ]
        }
      ],
      "source": [
        "theta = jnp.array([0., 0.5])\n",
        "xs_1 = []\n",
        "ys_1 = []\n",
        "f_val_1 = []\n",
        "\n",
        "optim = SGD(theta, eta=0.01)\n",
        "\n",
        "for i in tqdm(range(1000)):\n",
        "    theta = optim.update(theta, jax.random.PRNGKey(i), beale)\n",
        "    xs_1.append(float(theta[0]))\n",
        "    ys_1.append(float(theta[1]))\n",
        "    f_val_1.append(float(beale(theta)))"
      ]
    },
    {
      "cell_type": "code",
      "execution_count": 89,
      "metadata": {
        "colab": {
          "base_uri": "https://localhost:8080/",
          "height": 286
        },
        "id": "Qz1WUP_RGyX_",
        "outputId": "4724ce4e-7d90-4129-c3ec-2bd09dc346b7"
      },
      "outputs": [
        {
          "data": {
            "text/plain": [
              "Text(0.5, 1.0, 'Params')"
            ]
          },
          "execution_count": 89,
          "metadata": {},
          "output_type": "execute_result"
        },
        {
          "data": {
            "image/png": "[encoded data removed]",
            "text/plain": [
              "<Figure size 720x360 with 2 Axes>"
            ]
          },
          "metadata": {},
          "output_type": "display_data"
        }
      ],
      "source": [
        "import matplotlib.pyplot as plt\n",
        "fig, ax = plt.subplots(1, 2, figsize=(10, 5))\n",
        "sns.lineplot(x=[i for i in range(len(f_val))], y=f_val, ax=ax[0])\n",
        "sns.lineplot(x=[i for i in range(len(f_val_1))], y=f_val_1, ax=ax[0], color='red')\n",
        "# add title : loss\n",
        "ax[0].set_title('loss')\n",
        "sns.lineplot(x=xs, y=ys, ax=ax[1])\n",
        "sns.lineplot(x=xs_1, y=ys_1, ax=ax[1], color='red')\n",
        "ax[1].set_title('Params')"
      ]
    },
    {
      "cell_type": "code",
      "execution_count": null,
      "metadata": {},
      "outputs": [],
      "source": []
    }
  ],
  "metadata": {
    "colab": {
      "name": "fmin.ipynb",
      "provenance": []
    },
    "interpreter": {
      "hash": "bf9df1acc083bd5e3e638985fcebd21ad1fc4da3dcb88d72082f07cf9629809d"
    },
    "kernelspec": {
      "display_name": "Python 3.10.4 ('jax')",
      "language": "python",
      "name": "python3"
    },
    "language_info": {
      "codemirror_mode": {
        "name": "ipython",
        "version": 3
      },
      "file_extension": ".py",
      "mimetype": "text/x-python",
      "name": "python",
      "nbconvert_exporter": "python",
      "pygments_lexer": "ipython3",
      "version": "3.10.4"
    },
    "orig_nbformat": 4
  },
  "nbformat": 4,
  "nbformat_minor": 0
}
