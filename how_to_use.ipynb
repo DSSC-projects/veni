{
  "cells": [
    {
      "cell_type": "markdown",
      "metadata": {
        "id": "QtyTP8_C79xR"
      },
      "source": [
        "# Training a MLP using backpropagation"
      ]
    },
    {
      "cell_type": "markdown",
      "metadata": {
        "id": "opkZuz6b79xT"
      },
      "source": [
        "* **part 1** we train using `MLP`. \n",
        "* **part 2** we train using `Sequential` and `Linear`. "
      ]
    },
    {
      "cell_type": "code",
      "execution_count": 12,
      "metadata": {
        "id": "t2PRtHa8IvXY"
      },
      "outputs": [],
      "source": [
        "import jax\n",
        "from jax import numpy as jnp\n",
        "from jax import grad, jit\n",
        "from jax_forward import ReLU, LogSoftmax, MLP, Module, Sequential, Linear"
      ]
    },
    {
      "cell_type": "markdown",
      "metadata": {
        "id": "S6x8RCyW79xU"
      },
      "source": [
        "## Part 1\n",
        "We first define useful parameters that we are going to use later. Note that our model is a MLP imported from `net.py`"
      ]
    },
    {
      "cell_type": "code",
      "execution_count": 13,
      "metadata": {
        "id": "fuLi5I2ViLr9"
      },
      "outputs": [
        {
          "ename": "NameError",
          "evalue": "name '_relu' is not defined",
          "output_type": "error",
          "traceback": [
            "\u001b[0;31m---------------------------------------------------------------------------\u001b[0m",
            "\u001b[0;31mNameError\u001b[0m                                 Traceback (most recent call last)",
            "\u001b[1;32m/home/alessandro/Repositories/DL-project/how_to_use.ipynb Cell 5'\u001b[0m in \u001b[0;36m<cell line: 8>\u001b[0;34m()\u001b[0m\n\u001b[1;32m      <a href='vscode-notebook-cell:/home/alessandro/Repositories/DL-project/how_to_use.ipynb#ch0000004?line=5'>6</a>\u001b[0m n_targets \u001b[39m=\u001b[39m \u001b[39m10\u001b[39m\n\u001b[1;32m      <a href='vscode-notebook-cell:/home/alessandro/Repositories/DL-project/how_to_use.ipynb#ch0000004?line=6'>7</a>\u001b[0m key \u001b[39m=\u001b[39m jax\u001b[39m.\u001b[39mrandom\u001b[39m.\u001b[39mPRNGKey(\u001b[39m0\u001b[39m)\n\u001b[0;32m----> <a href='vscode-notebook-cell:/home/alessandro/Repositories/DL-project/how_to_use.ipynb#ch0000004?line=7'>8</a>\u001b[0m function \u001b[39m=\u001b[39m ReLU()\n\u001b[1;32m      <a href='vscode-notebook-cell:/home/alessandro/Repositories/DL-project/how_to_use.ipynb#ch0000004?line=8'>9</a>\u001b[0m log_softmax \u001b[39m=\u001b[39m LogSoftmax()\n\u001b[1;32m     <a href='vscode-notebook-cell:/home/alessandro/Repositories/DL-project/how_to_use.ipynb#ch0000004?line=10'>11</a>\u001b[0m \u001b[39m# to create a model is as simple as that\u001b[39;00m\n",
            "File \u001b[0;32m~/Repositories/DL-project/jax_forward/function.py:11\u001b[0m, in \u001b[0;36mReLU.__init__\u001b[0;34m(self)\u001b[0m\n\u001b[1;32m      <a href='file:///home/alessandro/Repositories/DL-project/jax_forward/function.py?line=8'>9</a>\u001b[0m \u001b[39mdef\u001b[39;00m \u001b[39m__init__\u001b[39m(\u001b[39mself\u001b[39m):\n\u001b[1;32m     <a href='file:///home/alessandro/Repositories/DL-project/jax_forward/function.py?line=9'>10</a>\u001b[0m     \u001b[39m\"\"\"Base class for relu activation function\"\"\"\u001b[39;00m\n\u001b[0;32m---> <a href='file:///home/alessandro/Repositories/DL-project/jax_forward/function.py?line=10'>11</a>\u001b[0m     \u001b[39msuper\u001b[39m()\u001b[39m.\u001b[39m\u001b[39m__init__\u001b[39m(vmap(_relu))\n",
            "\u001b[0;31mNameError\u001b[0m: name '_relu' is not defined"
          ]
        }
      ],
      "source": [
        "# hyperparameters\n",
        "layer_sizes = [784, 512, 256, 10]\n",
        "step_size = 0.01\n",
        "num_epochs = 5\n",
        "batch_size = 128\n",
        "n_targets = 10\n",
        "key = jax.random.PRNGKey(0)\n",
        "function = ReLU()\n",
        "log_softmax = LogSoftmax()\n",
        "\n",
        "# to create a model is as simple as that\n",
        "model = MLP(layer_sizes, function, key)\n",
        "params = model.params # we need to extract parameters"
      ]
    },
    {
      "cell_type": "markdown",
      "metadata": {
        "id": "KwMdEkYm79xV"
      },
      "source": [
        "Helper functions, trainloader and other stuff..."
      ]
    },
    {
      "cell_type": "code",
      "execution_count": 26,
      "metadata": {
        "colab": {
          "base_uri": "https://localhost:8080/"
        },
        "id": "FGG55g_OmppV",
        "outputId": "d4bf38ed-77b7-4a0f-e397-6cfb7d245de0"
      },
      "outputs": [
        {
          "name": "stderr",
          "output_type": "stream",
          "text": [
            "/usr/local/lib/python3.7/dist-packages/torchvision/datasets/mnist.py:75: UserWarning: train_data has been renamed data\n",
            "  warnings.warn(\"train_data has been renamed data\")\n",
            "/usr/local/lib/python3.7/dist-packages/torchvision/datasets/mnist.py:65: UserWarning: train_labels has been renamed targets\n",
            "  warnings.warn(\"train_labels has been renamed targets\")\n",
            "/usr/local/lib/python3.7/dist-packages/torchvision/datasets/mnist.py:80: UserWarning: test_data has been renamed data\n",
            "  warnings.warn(\"test_data has been renamed data\")\n",
            "/usr/local/lib/python3.7/dist-packages/torchvision/datasets/mnist.py:70: UserWarning: test_labels has been renamed targets\n",
            "  warnings.warn(\"test_labels has been renamed targets\")\n"
          ]
        }
      ],
      "source": [
        "# some helper functions\n",
        "def one_hot(x, k, dtype=jnp.float32):\n",
        "  \"\"\"Create a one-hot encoding of x of size k.\"\"\"\n",
        "  return jnp.array(x[:, None] == jnp.arange(k), dtype)\n",
        "  \n",
        "def accuracy(params, images, targets):\n",
        "  target_class = jnp.argmax(targets, axis=1)\n",
        "  predicted_class = jnp.argmax(model(images,params), axis=1)\n",
        "  return jnp.mean(predicted_class == target_class)\n",
        "\n",
        "def loss(params, images, targets):\n",
        "  preds = model(images, params)\n",
        "  preds = log_softmax(preds)\n",
        "  return -jnp.mean(preds * targets)\n",
        "\n",
        "@jit\n",
        "def update(params, x, y):\n",
        "  grads = grad(loss)(params, x, y)\n",
        "  return [(w - step_size * dw, b - step_size * db)\n",
        "          for (w, b), (dw, db) in zip(params, grads)]\n",
        "\n",
        "\n",
        "import numpy as np\n",
        "from torch.utils import data\n",
        "from torchvision.datasets import MNIST\n",
        "\n",
        "def numpy_collate(batch):\n",
        "  if isinstance(batch[0], np.ndarray):\n",
        "    return np.stack(batch)\n",
        "  elif isinstance(batch[0], (tuple,list)):\n",
        "    transposed = zip(*batch)\n",
        "    return [numpy_collate(samples) for samples in transposed]\n",
        "  else:\n",
        "    return np.array(batch)\n",
        "\n",
        "class NumpyLoader(data.DataLoader):\n",
        "  def __init__(self, dataset, batch_size=1,\n",
        "                shuffle=False, sampler=None,\n",
        "                batch_sampler=None, num_workers=0,\n",
        "                pin_memory=False, drop_last=False,\n",
        "                timeout=0, worker_init_fn=None):\n",
        "    super(self.__class__, self).__init__(dataset,\n",
        "        batch_size=batch_size,\n",
        "        shuffle=shuffle,\n",
        "        sampler=sampler,\n",
        "        batch_sampler=batch_sampler,\n",
        "        num_workers=num_workers,\n",
        "        collate_fn=numpy_collate,\n",
        "        pin_memory=pin_memory,\n",
        "        drop_last=drop_last,\n",
        "        timeout=timeout,\n",
        "        worker_init_fn=worker_init_fn)\n",
        "\n",
        "class FlattenAndCast(object):\n",
        "  def __call__(self, pic):\n",
        "    return np.ravel(np.array(pic, dtype=jnp.float32))\n",
        "\n",
        "# Define our dataset, using torch datasets\n",
        "mnist_dataset = MNIST('/tmp/mnist/', download=True, transform=FlattenAndCast())\n",
        "training_generator = NumpyLoader(mnist_dataset, batch_size=batch_size, num_workers=0)\n",
        "\n",
        "# Get the full train dataset (for checking accuracy while training)\n",
        "train_images = np.array(mnist_dataset.train_data).reshape(len(mnist_dataset.train_data), -1)\n",
        "train_labels = one_hot(np.array(mnist_dataset.train_labels), n_targets)\n",
        "\n",
        "# Get full test dataset\n",
        "mnist_dataset_test = MNIST('/tmp/mnist/', download=True, train=False)\n",
        "test_images = jnp.array(mnist_dataset_test.test_data.numpy().reshape(len(mnist_dataset_test.test_data), -1), dtype=jnp.float32)\n",
        "test_labels = one_hot(np.array(mnist_dataset_test.test_labels), n_targets)"
      ]
    },
    {
      "cell_type": "markdown",
      "metadata": {
        "id": "AGztSd9S79xW"
      },
      "source": [
        "Here we train using backpropagation"
      ]
    },
    {
      "cell_type": "code",
      "execution_count": 27,
      "metadata": {
        "colab": {
          "base_uri": "https://localhost:8080/"
        },
        "id": "kWbp73vtq13K",
        "outputId": "9b5bd1c9-bf95-400c-e00e-31a96123f8ae"
      },
      "outputs": [
        {
          "name": "stdout",
          "output_type": "stream",
          "text": [
            "Epoch 0 in 4.93 sec\n",
            "Training set accuracy 0.9045000076293945\n",
            "Test set accuracy 0.911899983882904\n",
            "Epoch 1 in 4.24 sec\n",
            "Training set accuracy 0.9273999929428101\n",
            "Test set accuracy 0.9307000041007996\n",
            "Epoch 2 in 4.22 sec\n",
            "Training set accuracy 0.9414499998092651\n",
            "Test set accuracy 0.939799964427948\n",
            "Epoch 3 in 4.21 sec\n",
            "Training set accuracy 0.9497500061988831\n",
            "Test set accuracy 0.9477999806404114\n",
            "Epoch 4 in 4.26 sec\n",
            "Training set accuracy 0.9563000202178955\n",
            "Test set accuracy 0.9527999758720398\n"
          ]
        }
      ],
      "source": [
        "import time\n",
        "\n",
        "for epoch in range(num_epochs):\n",
        "  start_time = time.time()\n",
        "  for x, y in training_generator:\n",
        "    y = one_hot(y, n_targets)\n",
        "    params = update(params, x, y)\n",
        "  epoch_time = time.time() - start_time\n",
        "\n",
        "  train_acc = accuracy(params, train_images, train_labels)\n",
        "  test_acc = accuracy(params, test_images, test_labels)\n",
        "  print(\"Epoch {} in {:0.2f} sec\".format(epoch, epoch_time))\n",
        "  print(\"Training set accuracy {}\".format(train_acc))\n",
        "  print(\"Test set accuracy {}\".format(test_acc))"
      ]
    },
    {
      "cell_type": "markdown",
      "metadata": {
        "id": "dMyZN2La79xX"
      },
      "source": [
        "## Part 1\n",
        "We first define useful parameters that we are going to use later. Note that our model is a costum model built using `Sequential` and `Linear`."
      ]
    },
    {
      "cell_type": "code",
      "execution_count": 28,
      "metadata": {
        "id": "3T0BVKsJ79xY"
      },
      "outputs": [],
      "source": [
        "class myModel(Module):\n",
        "    def __init__(self):\n",
        "        self.layers = Sequential([\n",
        "            Linear(28*28,512,key),\n",
        "            function,\n",
        "            Linear(512,256,key),\n",
        "            function,\n",
        "            Linear(256,10,key)\n",
        "        ])\n",
        "        self.params = self.layers.generate_parameters()\n",
        "\n",
        "    def forward(self, data, params):\n",
        "        return self.layers(data, params)\n",
        "\n",
        "# we define the model as simple as that\n",
        "model = myModel()\n",
        "params = model.params"
      ]
    },
    {
      "cell_type": "markdown",
      "metadata": {
        "id": "HaaY-qwUi1In"
      },
      "source": [
        "Let's train"
      ]
    },
    {
      "cell_type": "code",
      "execution_count": 29,
      "metadata": {
        "colab": {
          "base_uri": "https://localhost:8080/"
        },
        "id": "5kpedeNf79xY",
        "outputId": "994c375f-dd99-4e66-dcd4-9e45b302f391"
      },
      "outputs": [
        {
          "name": "stdout",
          "output_type": "stream",
          "text": [
            "Epoch 0 in 5.10 sec\n",
            "Training set accuracy 0.9095166921615601\n",
            "Test set accuracy 0.9138000011444092\n",
            "Epoch 1 in 4.17 sec\n",
            "Training set accuracy 0.9317666888237\n",
            "Test set accuracy 0.9315999746322632\n",
            "Epoch 2 in 4.85 sec\n",
            "Training set accuracy 0.9434833526611328\n",
            "Test set accuracy 0.9411999583244324\n",
            "Epoch 3 in 4.12 sec\n",
            "Training set accuracy 0.9513999819755554\n",
            "Test set accuracy 0.9483999609947205\n",
            "Epoch 4 in 4.18 sec\n",
            "Training set accuracy 0.9579166769981384\n",
            "Test set accuracy 0.9537999629974365\n"
          ]
        }
      ],
      "source": [
        "for epoch in range(num_epochs):\n",
        "  start_time = time.time()\n",
        "  for x, y in training_generator:\n",
        "    y = one_hot(y, n_targets)\n",
        "    params = update(params, x, y)\n",
        "  epoch_time = time.time() - start_time\n",
        "\n",
        "  train_acc = accuracy(params, train_images, train_labels)\n",
        "  test_acc = accuracy(params, test_images, test_labels)\n",
        "  print(\"Epoch {} in {:0.2f} sec\".format(epoch, epoch_time))\n",
        "  print(\"Training set accuracy {}\".format(train_acc))\n",
        "  print(\"Test set accuracy {}\".format(test_acc))"
      ]
    },
    {
      "cell_type": "code",
      "execution_count": null,
      "metadata": {
        "id": "DS8jrzYm79xZ"
      },
      "outputs": [],
      "source": []
    }
  ],
  "metadata": {
    "accelerator": "GPU",
    "colab": {
      "collapsed_sections": [],
      "name": "esempio_jax.ipynb",
      "provenance": []
    },
    "interpreter": {
      "hash": "bf9df1acc083bd5e3e638985fcebd21ad1fc4da3dcb88d72082f07cf9629809d"
    },
    "kernelspec": {
      "display_name": "Python 3.10.4 ('jax')",
      "language": "python",
      "name": "python3"
    },
    "language_info": {
      "codemirror_mode": {
        "name": "ipython",
        "version": 3
      },
      "file_extension": ".py",
      "mimetype": "text/x-python",
      "name": "python",
      "nbconvert_exporter": "python",
      "pygments_lexer": "ipython3",
      "version": "3.10.4"
    }
  },
  "nbformat": 4,
  "nbformat_minor": 0
}
