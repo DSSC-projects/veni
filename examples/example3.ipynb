{
 "cells": [
  {
   "cell_type": "markdown",
   "metadata": {
    "tags": []
   },
   "source": [
    "# Training a MLP using forward AD and different sampler\n",
    "{{ badge }}\n"
   ]
  },
  {
   "cell_type": "markdown",
   "metadata": {},
   "source": [
    "In the following tutorial we see how to sample directions differently when estimating the gradient using `vina.optim.grad_fwd()`. Theoretically, the loss should go down approximately the same using different directions. However, we will notice from this tutorial that sometimes using a different sample method may lead to an improvement in performance with less epochs performed."
   ]
  },
  {
   "cell_type": "markdown",
   "metadata": {},
   "source": [
    "As in `example2` we import the useful modules and we define our MLP model"
   ]
  },
  {
   "cell_type": "code",
   "execution_count": 29,
   "metadata": {},
   "outputs": [],
   "source": [
    "from torchvision.datasets import MNIST\n",
    "import numpy as np\n",
    "import sys\n",
    "\n",
    "sys.path.append('../')\n",
    "\n",
    "import jax\n",
    "import matplotlib.pyplot as plt\n",
    "from jax import grad\n",
    "from veni.net import Module, Sequential, Linear\n",
    "from veni.function import Softmax, ReLU\n",
    "from veni.utils import one_hot, NumpyLoader\n",
    "from veni.functiontools import CrossEntropy\n",
    "from veni.optim import Adam, grad_fwd, RademacherLikeSampler, TruncatedNormalLikeSampler, NormalLikeSampler\n",
    "import numpy as np\n",
    "import jax.numpy as jnp\n",
    "from tqdm import tqdm\n",
    "\n",
    "key = jax.random.PRNGKey(10)\n",
    "batch_size = 64\n",
    "\n",
    "#flatten and normalize\n",
    "class tf(object):\n",
    "    def __call__(self, pic):\n",
    "        return ( np.ravel(np.array(pic, dtype=jnp.float32)) / 255. - 0.5 ) * 2\n",
    "\n",
    "training_dataset = MNIST('/tmp/mnist/', train = True, download= True, transform= tf())\n",
    "training_generator = NumpyLoader(training_dataset, batch_size= batch_size )\n",
    "\n",
    "\n",
    "testing_dataset = MNIST('/tmp/mnist/', train = False,download= True, transform= tf() )\n",
    "testing_generator = NumpyLoader(testing_dataset, batch_size= batch_size )"
   ]
  },
  {
   "cell_type": "markdown",
   "metadata": {},
   "source": [
    "Making model: MLP for MNIST classification. \n",
    "Optimizer: Adam optimizer"
   ]
  },
  {
   "cell_type": "code",
   "execution_count": 30,
   "metadata": {},
   "outputs": [],
   "source": [
    "class MLP(Module):\n",
    "    def __init__(self):\n",
    "        self.layers = Sequential([\n",
    "            Linear(28*28, 1024, jax.random.PRNGKey(10)),\n",
    "            ReLU(),\n",
    "            Linear(1024, 1024, key),\n",
    "            ReLU(),\n",
    "            Linear(1024, 10, key),\n",
    "            Softmax()\n",
    "        ])\n",
    "\n",
    "        self.params = self.layers.generate_parameters()\n",
    "        #eliminate the bias\n",
    "    \n",
    "    def forward(self,x,params):\n",
    "        return self.layers(x,params)"
   ]
  },
  {
   "cell_type": "markdown",
   "metadata": {},
   "source": [
    "Some useful functions"
   ]
  },
  {
   "cell_type": "code",
   "execution_count": 31,
   "metadata": {},
   "outputs": [],
   "source": [
    "def loss(params, x, y):\n",
    "    y_hat = model(x, params)\n",
    "    return CrossEntropy(y, y_hat)\n",
    "\n",
    "def accuracy(y,y_hat):\n",
    "    model_predictions = jnp.argmax(y_hat, axis= 1)\n",
    "    return jnp.mean(y == model_predictions)\n",
    "\n",
    "def grad_bwd(params, x, y, loss, key):\n",
    "    grads = grad(loss)(params, x, y)\n",
    "    return grads\n",
    "\n",
    "def update(params, x, y, loss, optimizer, key, grad_type = 'fwd', sampler = None):\n",
    "    key = jax.random.split(key)\n",
    "    if grad_type == 'fwd':\n",
    "        if sampler is None:\n",
    "            grads = grad_fwd(params, x, y, loss, 1)\n",
    "        else:\n",
    "            grads = grad_fwd(params, x, y, loss, 1, sampler)\n",
    "    elif grad_type == 'bwd':\n",
    "        grads = grad_bwd(params, x, y, loss, key)\n",
    "    else:\n",
    "        raise ValueError(f\"Invalid grad_type, expected 'fwd' or 'bwd' got {grad_type}\")\n",
    "\n",
    "    return optimizer(params, grads)"
   ]
  },
  {
   "cell_type": "markdown",
   "metadata": {},
   "source": [
    "The `grad_fwd()` function can take a sampler as an input. A sampler is an object which specifies how to sample the random direciton for forward ad gradient estimate. The sampler must have zero mean and unit variance. Currently available sampler are: `NormalLikeSampler()` (default), `RademacherLikeSampler()` and `TruncatedNormalLikeSampler()`. We will investigate how they behave."
   ]
  },
  {
   "cell_type": "code",
   "execution_count": 32,
   "metadata": {},
   "outputs": [
    {
     "name": "stderr",
     "output_type": "stream",
     "text": [
      "  0%|          | 0/15 [00:00<?, ?it/s]"
     ]
    }
   ],
   "source": [
    "model = MLP()\n",
    "params = model.params\n",
    "optimizer = Adam(params, eta=0.0005)\n",
    "\n",
    "res_loss1 = []\n",
    "res_iter1 = []\n",
    "count=0\n",
    "for epoch in tqdm(range(15)):\n",
    "    running_loss = 0\n",
    "    for i, (x, y) in enumerate(training_generator):\n",
    "        key = jax.random.split(key)\n",
    "        one_hot_label = one_hot(y, 10)\n",
    "        running_loss += loss(params, x, one_hot_label)\n",
    "        params = update(params, x, one_hot_label, loss, optimizer, key, grad_type='fwd', sampler = NormalLikeSampler())\n",
    "        count+=1\n",
    "        if i%100 == 99:\n",
    "            res_loss1.append(running_loss/100)\n",
    "            res_iter1.append(count)\n",
    "            running_loss = 0"
   ]
  },
  {
   "cell_type": "code",
   "execution_count": null,
   "metadata": {},
   "outputs": [
    {
     "name": "stderr",
     "output_type": "stream",
     "text": [
      "100%|████████████████████████████████████████████| 5/5 [08:37<00:00, 103.40s/it]\n"
     ]
    }
   ],
   "source": [
    "model = MLP()\n",
    "params = model.params\n",
    "optimizer = Adam(params, eta=0.0005)\n",
    "\n",
    "res_loss2 = []\n",
    "res_iter2 = []\n",
    "count=0\n",
    "for epoch in tqdm(range(15)):\n",
    "    running_loss = 0\n",
    "    for i, (x, y) in enumerate(training_generator):\n",
    "        key = jax.random.split(key)\n",
    "        one_hot_label = one_hot(y, 10)\n",
    "        running_loss += loss(params, x, one_hot_label)\n",
    "        params = update(params, x, one_hot_label, loss, optimizer, key, grad_type='fwd', sampler = RademacherLikeSampler())\n",
    "        count+=1\n",
    "        if i%100 == 99:\n",
    "            res_loss2.append(running_loss/100)\n",
    "            res_iter2.append(count)\n",
    "            running_loss = 0"
   ]
  },
  {
   "cell_type": "code",
   "execution_count": null,
   "metadata": {},
   "outputs": [
    {
     "name": "stderr",
     "output_type": "stream",
     "text": [
      "100%|████████████████████████████████████████████| 5/5 [09:13<00:00, 110.76s/it]\n"
     ]
    }
   ],
   "source": [
    "model = MLP()\n",
    "params = model.params\n",
    "optimizer = Adam(params, eta=0.0005)\n",
    "\n",
    "res_loss3 = []\n",
    "res_iter3 = []\n",
    "count=0\n",
    "for epoch in tqdm(range(15)):\n",
    "    running_loss = 0\n",
    "    for i, (x, y) in enumerate(training_generator):\n",
    "        key = jax.random.split(key)\n",
    "        one_hot_label = one_hot(y, 10)\n",
    "        running_loss += loss(params, x, one_hot_label)\n",
    "        params = update(params, x, one_hot_label, loss, optimizer, key, grad_type='fwd', sampler = TruncatedNormalLikeSampler())\n",
    "        count+=1\n",
    "        if i%100 == 99:\n",
    "            res_loss3.append(running_loss/100)\n",
    "            res_iter3.append(count)\n",
    "            running_loss = 0"
   ]
  },
  {
   "cell_type": "markdown",
   "metadata": {},
   "source": [
    "Let's plot the result"
   ]
  },
  {
   "cell_type": "code",
   "execution_count": null,
   "metadata": {},
   "outputs": [
    {
     "data": {
      "image/png": "[encoded data removed]",
      "text/plain": [
       "<Figure size 432x288 with 1 Axes>"
      ]
     },
     "metadata": {
      "needs_background": "light"
     },
     "output_type": "display_data"
    }
   ],
   "source": [
    "plt.plot(res_iter1[-80:], res_loss1[-80:], label = 'normal')\n",
    "plt.plot(res_iter2[-80:], res_loss2[-80:], label = 'rademacher')\n",
    "plt.plot(res_iter3[-80:], res_loss3[-80:], label = 'truncated normal', c = 'b')\n",
    "plt.legend()\n",
    "plt.show()"
   ]
  },
  {
   "cell_type": "markdown",
   "metadata": {},
   "source": [
    "As we can see from the above plot, the truncated normal [-1, 1] sampler tends to perform similarly to the normal samples, whule the rademacher sampler tends to be a bit worst. However, in general we can see that if the mean is 0 and the variance is 1 the type of distrubution seems not to change the behaviour of the gradient estimate"
   ]
  }
 ],
 "metadata": {
  "interpreter": {
   "hash": "aee8b7b246df8f9039afb4144a1f6fd8d2ca17a180786b69acc140d282b71a49"
  },
  "kernelspec": {
   "display_name": "Python 3.9.0 64-bit",
   "name": "python3"
  },
  "language_info": {
   "codemirror_mode": {
    "name": "ipython",
    "version": 3
   },
   "file_extension": ".py",
   "mimetype": "text/x-python",
   "name": "python",
   "nbconvert_exporter": "python",
   "pygments_lexer": "ipython3",
   "version": "3.9.0"
  }
 },
 "nbformat": 4,
 "nbformat_minor": 5
}
