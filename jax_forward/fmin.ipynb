{
 "cells": [
  {
   "cell_type": "code",
   "execution_count": null,
   "metadata": {},
   "outputs": [],
   "source": [
    "import jax\n",
    "import jax.numpy as jnp\n",
    "from tqdm import tqdm\n",
    "import seaborn as sns\n",
    "\n",
    "sns.set(style=\"whitegrid\")"
   ]
  },
  {
   "cell_type": "code",
   "execution_count": null,
   "metadata": {},
   "outputs": [],
   "source": [
    "@jax.jit\n",
    "def beale(theta: jnp.DeviceArray) -> jnp.DeviceArray:\n",
    "  x = jnp.dot(theta, jnp.array([1., 0.]))\n",
    "  y = jnp.dot(theta, jnp.array([1., 0.]))\n",
    "  xy = jnp.dot(x, y)\n",
    "  xyy = jnp.dot(xy, y)\n",
    "  xyyy = jnp.dot(xyy, y)\n",
    "  return jnp.power(1.5 - x + xy, 2) + jnp.power(2.25 - x + xyy, 2) + jnp.power(2.625 - x + xyyy, 2)\n",
    "\n",
    "@jax.jit\n",
    "def rosenbrock(theta: jnp.DeviceArray) -> jnp.DeviceArray:\n",
    "  x = jnp.dot(theta, jnp.array([1., 0.]))\n",
    "  y = jnp.dot(theta, jnp.array([1., 0.]))\n",
    "  return jnp.power(1 - x, 2) + 100 * jnp.power(y - x * x, 2)\n",
    "\n",
    "def FGD(params, loss, key, step_size=1e-4):\n",
    "    v = jax.random.normal(key, shape=params.shape)\n",
    "    _, dd = jax.jvp(loss, (params,), (v,))\n",
    "    step = step_size * dd\n",
    "    return params - step * v"
   ]
  },
  {
   "cell_type": "code",
   "execution_count": null,
   "metadata": {},
   "outputs": [],
   "source": [
    "theta = jnp.array([-1., 0.])\n",
    "xs = []\n",
    "ys = []\n",
    "f_val = []\n",
    "\n",
    "for i in tqdm(range(25000)):\n",
    "    theta = FGD(theta, rosenbrock, jax.random.PRNGKey(i), step_size=5e-4)\n",
    "    xs.append(float(theta[0]))\n",
    "    ys.append(float(theta[1]))\n",
    "    f_val.append(float(rosenbrock(theta)))"
   ]
  },
  {
   "cell_type": "code",
   "execution_count": null,
   "metadata": {},
   "outputs": [],
   "source": [
    "sns.lineplot(x=[i for i in range(len(f_val))], y=f_val)"
   ]
  },
  {
   "cell_type": "code",
   "execution_count": null,
   "metadata": {},
   "outputs": [],
   "source": [
    "sns.lineplot(x=xs, y=ys)"
   ]
  },
  {
   "cell_type": "code",
   "execution_count": null,
   "metadata": {},
   "outputs": [],
   "source": []
  }
 ],
 "metadata": {
  "interpreter": {
   "hash": "bf9df1acc083bd5e3e638985fcebd21ad1fc4da3dcb88d72082f07cf9629809d"
  },
  "kernelspec": {
   "display_name": "Python 3.10.4 ('jax')",
   "language": "python",
   "name": "python3"
  },
  "language_info": {
   "codemirror_mode": {
    "name": "ipython",
    "version": 3
   },
   "file_extension": ".py",
   "mimetype": "text/x-python",
   "name": "python",
   "nbconvert_exporter": "python",
   "pygments_lexer": "ipython3",
   "version": "3.10.4"
  },
  "orig_nbformat": 4
 },
 "nbformat": 4,
 "nbformat_minor": 2
}
