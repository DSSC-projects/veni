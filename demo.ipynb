{
  "cells": [
    {
      "cell_type": "code",
      "execution_count": null,
      "metadata": {
        "id": "Gs95_ebN-zRd"
      },
      "outputs": [],
      "source": [
        "%matplotlib inline"
      ]
    },
    {
      "cell_type": "code",
      "source": [
        "!pip install functorch"
      ],
      "metadata": {
        "id": "e_Zuwevv_K9-",
        "outputId": "ec45d127-fbd5-46d9-848e-5db334c850e4",
        "colab": {
          "base_uri": "https://localhost:8080/"
        }
      },
      "execution_count": null,
      "outputs": [
        {
          "output_type": "stream",
          "name": "stdout",
          "text": [
            "Collecting functorch\n",
            "  Downloading functorch-0.1.1-cp37-cp37m-manylinux1_x86_64.whl (21.4 MB)\n",
            "\u001b[K     |████████████████████████████████| 21.4 MB 68.4 MB/s \n",
            "\u001b[?25hRequirement already satisfied: torch<1.12,>=1.11 in /usr/local/lib/python3.7/dist-packages (from functorch) (1.11.0+cu113)\n",
            "Requirement already satisfied: typing-extensions in /usr/local/lib/python3.7/dist-packages (from torch<1.12,>=1.11->functorch) (4.2.0)\n",
            "Installing collected packages: functorch\n",
            "Successfully installed functorch-0.1.1\n"
          ]
        }
      ]
    },
    {
      "cell_type": "code",
      "execution_count": null,
      "metadata": {
        "id": "qv2RV6nA-zRh"
      },
      "outputs": [],
      "source": [
        "import torch\n",
        "import torch.autograd.forward_ad as fwAD\n",
        "import functorch as ft"
      ]
    },
    {
      "cell_type": "code",
      "source": [
        "eta = 0.01\n",
        "primal = torch.Tensor([0.0, 0.5])\n",
        "tangent_out = torch.Tensor([0, 0])\n",
        "tangent = torch.Tensor([0, 0])\n",
        "\n",
        "xs1 = []\n",
        "ys1 = []\n",
        "values1 = []\n",
        "\n",
        "def beale(theta: torch.Tensor) -> torch.Tensor:\n",
        "  x = torch.matmul(theta, torch.Tensor([1, 0]))\n",
        "  y = torch.matmul(theta, torch.Tensor([0, 1]))\n",
        "  xy = torch.mul(x, y)\n",
        "  xyy = torch.mul(xy, y)\n",
        "  xyyy = torch.mul(xyy, y)\n",
        "  return torch.pow((torch.Tensor([1.5]) - x + xy), 2) + torch.pow((torch.Tensor([2.25]) - x + xyy), 2) + torch.pow((torch.Tensor([2.625]) - x + xyyy), 2)\n",
        "\n",
        "def rosenbrock(theta: torch.Tensor) -> torch.Tensor:\n",
        "  x = torch.matmul(theta, torch.Tensor([1, 0]))\n",
        "  y = torch.matmul(theta, torch.Tensor([0, 1]))\n",
        "  return torch.pow((torch.Tensor([1]) - x ), 2) + torch.Tensor([100.0]) * torch.pow((y - x * x), 2)\n",
        "\n",
        "\n",
        "f = beale\n",
        "\n",
        "for i in range(1000):\n",
        "  primal = primal - eta * tangent_out * tangent\n",
        "  xs1.append(float(primal[0]))\n",
        "  ys1.append(float(primal[1]))\n",
        "  values1.append(float(f(primal)))\n",
        "  tangent = torch.normal(mean=torch.Tensor([0, 0]))\n",
        "  primal_out, tangent_out = ft.jvp(f, (primal,), (tangent,))"
      ],
      "metadata": {
        "id": "vCElBUpr_aNc"
      },
      "execution_count": null,
      "outputs": []
    },
    {
      "cell_type": "code",
      "source": [
        "eta = 0.01\n",
        "primal = torch.Tensor([0.0, 0.5])\n",
        "tangent_out = torch.Tensor([0, 0])\n",
        "tangent = torch.Tensor([0, 0])\n",
        "\n",
        "xs = []\n",
        "ys = []\n",
        "values = []\n",
        "\n",
        "def beale(theta: torch.Tensor) -> torch.Tensor:\n",
        "  x = torch.matmul(theta, torch.Tensor([1, 0]))\n",
        "  y = torch.matmul(theta, torch.Tensor([0, 1]))\n",
        "  xy = torch.mul(x, y)\n",
        "  xyy = torch.mul(xy, y)\n",
        "  xyyy = torch.mul(xyy, y)\n",
        "  return torch.pow((torch.Tensor([1.5]) - x + xy), 2) + torch.pow((torch.Tensor([2.25]) - x + xyy), 2) + torch.pow((torch.Tensor([2.625]) - x + xyyy), 2)\n",
        "\n",
        "def rosenbrock(theta: torch.Tensor) -> torch.Tensor:\n",
        "  x = torch.matmul(theta, torch.Tensor([1, 0]))\n",
        "  y = torch.matmul(theta, torch.Tensor([0, 1]))\n",
        "  return torch.pow((torch.Tensor([1]) - x ), 2) + torch.Tensor([100.0]) * torch.pow((y - x * x), 2)\n",
        "\n",
        "\n",
        "f = beale\n",
        "\n",
        "m = 0\n",
        "v = 0\n",
        "beta1 = 0.9\n",
        "beta2 = 0.999\n",
        "\n",
        "for i in range(1000):\n",
        "  if i > 0:\n",
        "    gradient = tangent_out * tangent\n",
        "    m = beta1 * m + (1 - beta1) * gradient\n",
        "    v = beta2 * v + (1 - beta2) * torch.pow(gradient, 2)\n",
        "    m_hat = m / (1 - beta1 ** i)\n",
        "    v_hat = v / (1 - beta2 ** i)\n",
        "    primal = primal - eta * torch.div(m_hat, torch.sqrt(v_hat) + 1e-08)\n",
        "    xs.append(float(primal[0]))\n",
        "    ys.append(float(primal[1]))\n",
        "    values.append(float(f(primal)))\n",
        "  tangent = torch.normal(mean=torch.Tensor([0, 0]))\n",
        "  primal_out, tangent_out = ft.jvp(f, (primal,), (tangent,))"
      ],
      "metadata": {
        "id": "ePdB59VIROos"
      },
      "execution_count": null,
      "outputs": []
    },
    {
      "cell_type": "code",
      "source": [
        "import matplotlib.pyplot as plt\n",
        "\n",
        "plt.plot(xs, ys)\n",
        "plt.plot(xs1, ys1)\n",
        "plt.legend([\"Adam\", \"SGD\"])\n",
        "#plt.ylim(-0.2, 1.0)"
      ],
      "metadata": {
        "id": "X9UO_4d5Crt0",
        "outputId": "8752303b-0cfd-4b0a-ddab-9e72bcfd239f",
        "colab": {
          "base_uri": "https://localhost:8080/",
          "height": 282
        }
      },
      "execution_count": null,
      "outputs": [
        {
          "output_type": "execute_result",
          "data": {
            "text/plain": [
              "<matplotlib.legend.Legend at 0x7efc017fb210>"
            ]
          },
          "metadata": {},
          "execution_count": 63
        },
        {
          "output_type": "display_data",
          "data": {
            "text/plain": [
              "<Figure size 432x288 with 1 Axes>"
            ],
            "image/png": "[encoded data removed]"
          },
          "metadata": {
            "needs_background": "light"
          }
        }
      ]
    },
    {
      "cell_type": "code",
      "source": [
        "plt.plot(values)\n",
        "plt.plot(values1)\n",
        "plt.legend([\"Adam\", \"SGD\"])"
      ],
      "metadata": {
        "colab": {
          "base_uri": "https://localhost:8080/",
          "height": 282
        },
        "id": "yFIl-LhMLkIy",
        "outputId": "26e1c109-f189-414c-9bbd-56ecb5482466"
      },
      "execution_count": null,
      "outputs": [
        {
          "output_type": "execute_result",
          "data": {
            "text/plain": [
              "<matplotlib.legend.Legend at 0x7efc0177e290>"
            ]
          },
          "metadata": {},
          "execution_count": 64
        },
        {
          "output_type": "display_data",
          "data": {
            "text/plain": [
              "<Figure size 432x288 with 1 Axes>"
            ],
            "image/png": "[encoded data removed]"
          },
          "metadata": {
            "needs_background": "light"
          }
        }
      ]
    },
    {
      "cell_type": "markdown",
      "source": [
        "adam performs poorly bc we're using a batchsize of one"
      ],
      "metadata": {
        "id": "hzZpHY2tiHpv"
      }
    },
    {
      "cell_type": "code",
      "source": [
        "model = nn.Linear(5, 5)\n",
        "input = torch.randn(16, 5)\n",
        "tangents = tuple([torch.rand_like(p) for p in model.parameters()])\n",
        "\n",
        "loss = torch.nn.fun\n",
        "\n",
        "func, params, buffers = ft.make_functional_with_buffers(model)\n",
        "\n",
        "def func_params_only(params):\n",
        "    return func(params, buffers, input)\n",
        "\n",
        "model_output, jvp_out = ft.jvp(func_params_only, (params,), (tangents,))\n",
        "\n",
        "\n",
        "\n",
        "for i in range(1000):\n",
        "  primal = primal - eta * tangent_out * tangent\n",
        "  xs1.append(float(primal[0]))\n",
        "  ys1.append(float(primal[1]))\n",
        "  values1.append(float(f(primal)))\n",
        "  tangent = torch.normal(mean=torch.Tensor([0, 0]))\n",
        "  primal_out, tangent_out = ft.jvp(f, (primal,), (tangent,))"
      ],
      "metadata": {
        "id": "e8yyD2IL-pAH"
      },
      "execution_count": null,
      "outputs": []
    }
  ],
  "metadata": {
    "kernelspec": {
      "display_name": "Python 3",
      "language": "python",
      "name": "python3"
    },
    "language_info": {
      "codemirror_mode": {
        "name": "ipython",
        "version": 3
      },
      "file_extension": ".py",
      "mimetype": "text/x-python",
      "name": "python",
      "nbconvert_exporter": "python",
      "pygments_lexer": "ipython3",
      "version": "3.7.11"
    },
    "colab": {
      "name": "Gradients without backpropagation.ipynb",
      "provenance": [],
      "collapsed_sections": []
    }
  },
  "nbformat": 4,
  "nbformat_minor": 0
}