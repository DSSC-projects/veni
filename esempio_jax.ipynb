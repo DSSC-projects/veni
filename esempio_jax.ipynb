{
  "cells": [
    {
      "cell_type": "markdown",
      "metadata": {},
      "source": [
        "# Training a MLP using backpropagation and forward differentiation"
      ]
    },
    {
      "cell_type": "markdown",
      "metadata": {},
      "source": [
        "In **part 1** we train using backpropagation, while in **part 2** we train using forward ad."
      ]
    },
    {
      "cell_type": "code",
      "execution_count": 1,
      "metadata": {
        "id": "t2PRtHa8IvXY"
      },
      "outputs": [],
      "source": [
        "import jax.numpy as jnp\n",
        "import jax\n",
        "jax.config.update('jax_platform_name', 'cpu')\n",
        "import os, sys\n",
        "sys.path.append(os.path.join(os.getcwd(),'jax_forward'))\n",
        "from net import MLP\n",
        "from functional import relu, log_softmax\n",
        "from jax import grad, jit"
      ]
    },
    {
      "cell_type": "markdown",
      "metadata": {},
      "source": [
        "## Part 1\n",
        "We first define useful parameters that we are going to use later. Note that our model is a MLP imported from `net.py`"
      ]
    },
    {
      "cell_type": "code",
      "execution_count": 2,
      "metadata": {
        "id": "m_Olitk7mB5V"
      },
      "outputs": [],
      "source": [
        "# hyperparameters\n",
        "layer_sizes = [784, 512, 256, 10]\n",
        "step_size = 0.01\n",
        "num_epochs = 8\n",
        "batch_size = 128\n",
        "n_targets = 10\n",
        "key = jax.random.PRNGKey(0)\n",
        "\n",
        "# to create a model is as simple as that\n",
        "model = MLP(layer_sizes, relu, key)\n",
        "params = model.params # we need to extract parameters"
      ]
    },
    {
      "cell_type": "markdown",
      "metadata": {},
      "source": [
        "Helper functions, trainloader and other stuff..."
      ]
    },
    {
      "cell_type": "code",
      "execution_count": 3,
      "metadata": {
        "colab": {
          "base_uri": "https://localhost:8080/"
        },
        "id": "FGG55g_OmppV",
        "outputId": "e0f7b13b-778c-46d1-dd32-5dd76fcc5b7a"
      },
      "outputs": [
        {
          "name": "stderr",
          "output_type": "stream",
          "text": [
            "/home/francesco/.local/lib/python3.10/site-packages/torchvision/datasets/mnist.py:75: UserWarning: train_data has been renamed data\n",
            "  warnings.warn(\"train_data has been renamed data\")\n",
            "/home/francesco/.local/lib/python3.10/site-packages/torchvision/datasets/mnist.py:65: UserWarning: train_labels has been renamed targets\n",
            "  warnings.warn(\"train_labels has been renamed targets\")\n",
            "/home/francesco/.local/lib/python3.10/site-packages/torchvision/datasets/mnist.py:80: UserWarning: test_data has been renamed data\n",
            "  warnings.warn(\"test_data has been renamed data\")\n",
            "/home/francesco/.local/lib/python3.10/site-packages/torchvision/datasets/mnist.py:70: UserWarning: test_labels has been renamed targets\n",
            "  warnings.warn(\"test_labels has been renamed targets\")\n"
          ]
        }
      ],
      "source": [
        "# some helper functions\n",
        "def one_hot(x, k, dtype=jnp.float32):\n",
        "  \"\"\"Create a one-hot encoding of x of size k.\"\"\"\n",
        "  return jnp.array(x[:, None] == jnp.arange(k), dtype)\n",
        "  \n",
        "def accuracy(params, images, targets):\n",
        "  target_class = jnp.argmax(targets, axis=1)\n",
        "  predicted_class = jnp.argmax(model(params, images), axis=1)\n",
        "  return jnp.mean(predicted_class == target_class)\n",
        "\n",
        "def loss(params, images, targets):\n",
        "  preds = model(params, images)\n",
        "  preds = log_softmax(preds)\n",
        "  return -jnp.mean(preds * targets)\n",
        "\n",
        "@jit\n",
        "def update(params, x, y):\n",
        "  grads = grad(loss)(params, x, y)\n",
        "  return [(w - step_size * dw, b - step_size * db)\n",
        "          for (w, b), (dw, db) in zip(params, grads)]\n",
        "\n",
        "\n",
        "import numpy as np\n",
        "from torch.utils import data\n",
        "from torchvision.datasets import MNIST\n",
        "\n",
        "def numpy_collate(batch):\n",
        "  if isinstance(batch[0], np.ndarray):\n",
        "    return np.stack(batch)\n",
        "  elif isinstance(batch[0], (tuple,list)):\n",
        "    transposed = zip(*batch)\n",
        "    return [numpy_collate(samples) for samples in transposed]\n",
        "  else:\n",
        "    return np.array(batch)\n",
        "\n",
        "class NumpyLoader(data.DataLoader):\n",
        "  def __init__(self, dataset, batch_size=1,\n",
        "                shuffle=False, sampler=None,\n",
        "                batch_sampler=None, num_workers=0,\n",
        "                pin_memory=False, drop_last=False,\n",
        "                timeout=0, worker_init_fn=None):\n",
        "    super(self.__class__, self).__init__(dataset,\n",
        "        batch_size=batch_size,\n",
        "        shuffle=shuffle,\n",
        "        sampler=sampler,\n",
        "        batch_sampler=batch_sampler,\n",
        "        num_workers=num_workers,\n",
        "        collate_fn=numpy_collate,\n",
        "        pin_memory=pin_memory,\n",
        "        drop_last=drop_last,\n",
        "        timeout=timeout,\n",
        "        worker_init_fn=worker_init_fn)\n",
        "\n",
        "class FlattenAndCast(object):\n",
        "  def __call__(self, pic):\n",
        "    return np.ravel(np.array(pic, dtype=jnp.float32))\n",
        "\n",
        "# Define our dataset, using torch datasets\n",
        "mnist_dataset = MNIST('/tmp/mnist/', download=True, transform=FlattenAndCast())\n",
        "training_generator = NumpyLoader(mnist_dataset, batch_size=batch_size, num_workers=0)\n",
        "\n",
        "# Get the full train dataset (for checking accuracy while training)\n",
        "train_images = np.array(mnist_dataset.train_data).reshape(len(mnist_dataset.train_data), -1)\n",
        "train_labels = one_hot(np.array(mnist_dataset.train_labels), n_targets)\n",
        "\n",
        "# Get full test dataset\n",
        "mnist_dataset_test = MNIST('/tmp/mnist/', download=True, train=False)\n",
        "test_images = jnp.array(mnist_dataset_test.test_data.numpy().reshape(len(mnist_dataset_test.test_data), -1), dtype=jnp.float32)\n",
        "test_labels = one_hot(np.array(mnist_dataset_test.test_labels), n_targets)"
      ]
    },
    {
      "cell_type": "markdown",
      "metadata": {},
      "source": [
        "Here we train using backpropagation"
      ]
    },
    {
      "cell_type": "code",
      "execution_count": 4,
      "metadata": {
        "colab": {
          "base_uri": "https://localhost:8080/"
        },
        "id": "kWbp73vtq13K",
        "outputId": "437d0558-99fd-4c80-e085-25335797ade1"
      },
      "outputs": [
        {
          "name": "stdout",
          "output_type": "stream",
          "text": [
            "Epoch 0 in 6.22 sec\n",
            "Training set accuracy 0.9044666886329651\n",
            "Test set accuracy 0.911899983882904\n",
            "Epoch 1 in 5.47 sec\n",
            "Training set accuracy 0.9273666739463806\n",
            "Test set accuracy 0.9305999875068665\n",
            "Epoch 2 in 5.28 sec\n",
            "Training set accuracy 0.9414166808128357\n",
            "Test set accuracy 0.9399999976158142\n",
            "Epoch 3 in 6.13 sec\n",
            "Training set accuracy 0.9496833682060242\n",
            "Test set accuracy 0.9474999904632568\n",
            "Epoch 4 in 5.24 sec\n",
            "Training set accuracy 0.956416666507721\n",
            "Test set accuracy 0.9529999494552612\n",
            "Epoch 5 in 5.18 sec\n",
            "Training set accuracy 0.9615833163261414\n",
            "Test set accuracy 0.9562999606132507\n",
            "Epoch 6 in 5.15 sec\n",
            "Training set accuracy 0.9661833643913269\n",
            "Test set accuracy 0.9596999883651733\n"
          ]
        }
      ],
      "source": [
        "import time\n",
        "\n",
        "for epoch in range(num_epochs):\n",
        "  start_time = time.time()\n",
        "  for x, y in training_generator:\n",
        "    y = one_hot(y, n_targets)\n",
        "    params = update(params, x, y)\n",
        "  epoch_time = time.time() - start_time\n",
        "\n",
        "  train_acc = accuracy(params, train_images, train_labels)\n",
        "  test_acc = accuracy(params, test_images, test_labels)\n",
        "  print(\"Epoch {} in {:0.2f} sec\".format(epoch, epoch_time))\n",
        "  print(\"Training set accuracy {}\".format(train_acc))\n",
        "  print(\"Test set accuracy {}\".format(test_acc))"
      ]
    },
    {
      "cell_type": "markdown",
      "metadata": {},
      "source": [
        "## Part 2\n",
        "\n",
        "Now lets's train using forward AD. Note that we need to change a bit the function `update`"
      ]
    },
    {
      "cell_type": "code",
      "execution_count": null,
      "metadata": {
        "id": "ohBbGUPrtNzx"
      },
      "outputs": [],
      "source": [
        "from jax import jvp\n",
        "model = MLP(layer_sizes,relu,key)\n",
        "\n",
        "def get_vector(key, params):\n",
        "  v_shaped = []\n",
        "  for w,b in params:\n",
        "    key, subkey = jax.random.split(key)\n",
        "    v_w = jax.random.normal(key, shape=w.shape)\n",
        "    v_b = jax.random.normal(subkey, shape=b.shape)\n",
        "    v_shaped.append((v_w, v_b))\n",
        "  return v_shaped\n",
        "\n",
        "@jit\n",
        "def update(params, key, x, y):\n",
        "  v = get_vector(key, params)\n",
        "  _, dd = jvp(lambda params: loss(params, x, y), (params,), (v,))\n",
        "  step = step_size * dd\n",
        "  return [(w - step * dw, b - step * db)\n",
        "          for (w, b), (dw, db) in zip(params, v)]"
      ]
    },
    {
      "cell_type": "markdown",
      "metadata": {},
      "source": [
        "Let's train again"
      ]
    },
    {
      "cell_type": "code",
      "execution_count": null,
      "metadata": {
        "colab": {
          "base_uri": "https://localhost:8080/"
        },
        "id": "exwPeezQusrf",
        "outputId": "fd7177ec-a7ec-4c96-cdf4-98ecd41d5171"
      },
      "outputs": [
        {
          "name": "stdout",
          "output_type": "stream",
          "text": [
            "Epoch 0 in 10.51 sec\n",
            "Training set accuracy 0.9740333557128906\n",
            "Test set accuracy 0.9668999910354614\n",
            "Epoch 1 in 7.98 sec\n",
            "Training set accuracy 0.9747666716575623\n",
            "Test set accuracy 0.967799961566925\n",
            "Epoch 2 in 8.27 sec\n",
            "Training set accuracy 0.9748499989509583\n",
            "Test set accuracy 0.967799961566925\n",
            "Epoch 3 in 8.28 sec\n",
            "Training set accuracy 0.9751166701316833\n",
            "Test set accuracy 0.9679999947547913\n",
            "Epoch 4 in 8.75 sec\n",
            "Training set accuracy 0.9751999974250793\n",
            "Test set accuracy 0.967799961566925\n",
            "Epoch 5 in 8.47 sec\n",
            "Training set accuracy 0.9751166701316833\n",
            "Test set accuracy 0.9681999683380127\n",
            "Epoch 6 in 8.58 sec\n",
            "Training set accuracy 0.9752166867256165\n",
            "Test set accuracy 0.9679999947547913\n",
            "Epoch 7 in 8.19 sec\n",
            "Training set accuracy 0.9752333164215088\n",
            "Test set accuracy 0.9680999517440796\n"
          ]
        }
      ],
      "source": [
        "step_size = 2e-5\n",
        "\n",
        "for epoch in range(num_epochs):\n",
        "  start_time = time.time()\n",
        "  for x, y in training_generator:\n",
        "    key, _ = jax.random.split(key)\n",
        "    y = one_hot(y, n_targets)\n",
        "    params = update(params, key, x, y)\n",
        "  epoch_time = time.time() - start_time\n",
        "\n",
        "  train_acc = accuracy(params, train_images, train_labels)\n",
        "  test_acc = accuracy(params, test_images, test_labels)\n",
        "  print(\"Epoch {} in {:0.2f} sec\".format(epoch, epoch_time))\n",
        "  print(\"Training set accuracy {}\".format(train_acc))\n",
        "  print(\"Test set accuracy {}\".format(test_acc))\n"
      ]
    },
    {
      "cell_type": "code",
      "execution_count": null,
      "metadata": {},
      "outputs": [],
      "source": []
    }
  ],
  "metadata": {
    "colab": {
      "collapsed_sections": [],
      "name": "Untitled2.ipynb",
      "provenance": []
    },
    "interpreter": {
      "hash": "916dbcbb3f70747c44a77c7bcd40155683ae19c65e1c03b4aa3499c5328201f1"
    },
    "kernelspec": {
      "display_name": "Python 3.10.4 64-bit",
      "language": "python",
      "name": "python3"
    },
    "language_info": {
      "codemirror_mode": {
        "name": "ipython",
        "version": 3
      },
      "file_extension": ".py",
      "mimetype": "text/x-python",
      "name": "python",
      "nbconvert_exporter": "python",
      "pygments_lexer": "ipython3",
      "version": "3.10.4"
    }
  },
  "nbformat": 4,
  "nbformat_minor": 2
}
